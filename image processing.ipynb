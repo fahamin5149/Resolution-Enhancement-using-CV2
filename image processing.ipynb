{
 "cells": [
  {
   "cell_type": "markdown",
   "id": "48ee70fd",
   "metadata": {
    "id": "48ee70fd"
   },
   "source": [
    "# Question: 1\n",
    "\n",
    "In this question, you are tasked with enhancing the resolution of a video. The goal is to improve the quality of individual frames. You are expected to use basic algorithms for achieving this goal.\n",
    "\n",
    "### Task 1: Frame Extraction\n",
    "\n",
    "Extract frames from the video using OpenCV.\n",
    "\n",
    "### Task 2: Resolution Enhancement\n",
    "\n",
    "Apply the following enhancement algorithms to scale the extracted frames by a factor of 2:\n",
    "\n",
    "1) Nearest-neighbor Interpolation <br>\n",
    "2) Bilinear Interpolation <br>\n",
    "3) Bicubic Interpolation <br>\n",
    "\n",
    "Explore these approaches by your self. These are just builtin parameters in resize function.\n",
    "https://theailearner.com/2018/11/15/image-interpolation-using-opencv-python/\n",
    "\n",
    "### Task 3: Video Reconstruction\n",
    "\n",
    "After enhancing the frames, reconstruct the video by merging the enhanced frames while ensuring that the frame rate of the reconstructed video matches that of the original video. Generate a separate video for each interpolation method.\n",
    "\n",
    "<b>Bonus</b>: Apply a self-selected algorithm to improve video quality."
   ]
  },
  {
   "cell_type": "code",
   "execution_count": null,
   "id": "74a7eaf2",
   "metadata": {
    "id": "74a7eaf2"
   },
   "outputs": [],
   "source": [
    "import cv2"
   ]
  },
  {
   "cell_type": "code",
   "execution_count": null,
   "id": "a2c4fb62",
   "metadata": {
    "id": "a2c4fb62"
   },
   "outputs": [],
   "source": [
    "def framefunction(filename):\n",
    "  count=0\n",
    "  frames=1\n",
    "\n",
    "  videofile=cv2.VideoCapture(filename)\n",
    "\n",
    "  while (frames):\n",
    "    frames,imgextracted=videofile.read()\n",
    "    if frames:\n",
    "      cv2.imwrite(\"frame%d.jpg\" % count, imgextracted)\n",
    "      count=count+1\n",
    "\n",
    "framefunction(\"Q1.mp4\")"
   ]
  },
  {
   "cell_type": "code",
   "execution_count": null,
   "id": "poZAI9xhCl36",
   "metadata": {
    "id": "poZAI9xhCl36"
   },
   "outputs": [],
   "source": [
    "for img_count in range(0,240):\n",
    "    img_inter=cv2.imread(\"frame%d.jpg\"%img_count)\n",
    "\n",
    "    near_img = cv2.resize(img_inter,None, fx = 10, fy = 10, interpolation = cv2.INTER_NEAREST)\n",
    "    cv2.imwrite(\"nearneig%d.jpg\"%img_count, near_img)\n",
    "\n",
    "    bilin_img=cv2.resize(img_inter,None, fx=10,fy=10, interpolation=cv2.INTER_LINEAR)\n",
    "    cv2.imwrite(\"bilin%d.jpg\"%img_count,bilin_img)\n",
    "\n",
    "    bilcub_img=cv2.resize(img_inter,None, fx=10,fy=10, interpolation=cv2.INTER_CUBIC)\n",
    "    cv2.imwrite(\"bilcub%d.jpg\"%img_count,bilcub_img)\n"
   ]
  },
  {
   "cell_type": "code",
   "execution_count": null,
   "id": "c65a0dce",
   "metadata": {
    "id": "c65a0dce"
   },
   "outputs": [],
   "source": [
    "import numpy as np\n",
    "\n",
    "near_img_arr=[]\n",
    "for img_count in range(0,240):\n",
    "    near_vid=cv2.imread(\"nearneig%d.jpg\"%img_count)\n",
    "    imgheight,imgwidth,imglayer=near_vid.shape\n",
    "    imgsize = (imgwidth,imgheight)\n",
    "    near_img_arr.append(near_vid)\n",
    "\n",
    "near_video = cv2.VideoWriter(\"near_interpolation.mp4\", cv2.VideoWriter_fourcc(*'DIVX'), 30, imgsize)\n",
    "\n",
    "for i in range(len(near_img_arr)):\n",
    "    near_video.write(near_img_arr[i])\n",
    "near_video.release()"
   ]
  },
  {
   "cell_type": "code",
   "execution_count": null,
   "id": "87867c50",
   "metadata": {
    "id": "87867c50"
   },
   "outputs": [],
   "source": [
    "bipol_img_arr=[]\n",
    "for img_count in range(0,240):\n",
    "    bipol_vid=cv2.imread(\"bilin%d.jpg\"%img_count)\n",
    "    imgheight,imgwidth,imglayer=bipol_vid.shape\n",
    "    imgsize = (imgwidth,imgheight)\n",
    "    bipol_img_arr.append(bipol_vid)\n",
    "\n",
    "bipol_video = cv2.VideoWriter(\"bipolar.mp4\", cv2.VideoWriter_fourcc(*'DIVX'), 30, imgsize)\n",
    "\n",
    "for i in range(len(bipol_img_arr)):\n",
    "    bipol_video.write(bipol_img_arr[i])\n",
    "bipol_video.release()"
   ]
  },
  {
   "cell_type": "code",
   "execution_count": null,
   "id": "46514ca5",
   "metadata": {
    "id": "46514ca5"
   },
   "outputs": [],
   "source": [
    "bipcub_img_arr=[]\n",
    "for img_count in range(0,240):\n",
    "    bicub_vid=cv2.imread(\"bilcub%d.jpg\"%img_count)\n",
    "    imgheight,imgwidth,imglayer=bicub_vid.shape\n",
    "    imgsize = (imgwidth,imgheight)\n",
    "    bipcub_img_arr.append(bicub_vid)\n",
    "\n",
    "bicub_video = cv2.VideoWriter(\"bicubic.mp4\", cv2.VideoWriter_fourcc(*'DIVX'), 30, imgsize)\n",
    "\n",
    "for i in range(len(bipcub_img_arr)):\n",
    "    bicub_video.write(bipcub_img_arr[i])\n",
    "bicub_video.release()"
   ]
  },
  {
   "cell_type": "code",
   "execution_count": null,
   "id": "jubxrAQ96mii",
   "metadata": {
    "id": "jubxrAQ96mii"
   },
   "outputs": [],
   "source": []
  }
 ],
 "metadata": {
  "colab": {
   "provenance": []
  },
  "kernelspec": {
   "display_name": "Python 3 (ipykernel)",
   "language": "python",
   "name": "python3"
  },
  "language_info": {
   "codemirror_mode": {
    "name": "ipython",
    "version": 3
   },
   "file_extension": ".py",
   "mimetype": "text/x-python",
   "name": "python",
   "nbconvert_exporter": "python",
   "pygments_lexer": "ipython3",
   "version": "3.11.4"
  }
 },
 "nbformat": 4,
 "nbformat_minor": 5
}
